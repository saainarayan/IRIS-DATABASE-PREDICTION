{
 "cells": [
  {
   "cell_type": "code",
   "execution_count": 3,
   "id": "952331f6-5ab2-41ba-bf6f-f65cc2697e4e",
   "metadata": {},
   "outputs": [
    {
     "name": "stdout",
     "output_type": "stream",
     "text": [
      "The predicted values is :['Iris-setosa']\n"
     ]
    }
   ],
   "source": [
    "import requests\n",
    "\n",
    "data = {\n",
    "    'sl':1.2,\n",
    "    'sw':2.3,\n",
    "    'pl':3.2,\n",
    "    'pw':0.2\n",
    "}\n",
    "\n",
    "url='http://127.0.0.1:5000/modelprocessing'\n",
    "\n",
    "response = requests.post(url = url, data = data)\n",
    "\n",
    "if response.status_code == 200:\n",
    "    print(response.text)\n",
    "else:\n",
    "    print(f\"Exiting with error code {response.status_code}\")"
   ]
  },
  {
   "cell_type": "code",
   "execution_count": null,
   "id": "0395ccad-2633-4808-8745-136ac48dbb06",
   "metadata": {},
   "outputs": [],
   "source": []
  }
 ],
 "metadata": {
  "kernelspec": {
   "display_name": "Python 3 (ipykernel)",
   "language": "python",
   "name": "python3"
  },
  "language_info": {
   "codemirror_mode": {
    "name": "ipython",
    "version": 3
   },
   "file_extension": ".py",
   "mimetype": "text/x-python",
   "name": "python",
   "nbconvert_exporter": "python",
   "pygments_lexer": "ipython3",
   "version": "3.12.7"
  }
 },
 "nbformat": 4,
 "nbformat_minor": 5
}
