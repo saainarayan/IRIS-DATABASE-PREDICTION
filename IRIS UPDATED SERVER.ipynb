{
 "cells": [
  {
   "cell_type": "code",
   "execution_count": null,
   "id": "6078a7ce-bd9e-41d0-ac20-9210723987c7",
   "metadata": {},
   "outputs": [
    {
     "name": "stdout",
     "output_type": "stream",
     "text": [
      "? Flask server is starting on http://0.0.0.0:5000 ...\n",
      " * Serving Flask app '__main__'\n",
      " * Debug mode: off\n"
     ]
    },
    {
     "name": "stderr",
     "output_type": "stream",
     "text": [
      "WARNING: This is a development server. Do not use it in a production deployment. Use a production WSGI server instead.\n",
      " * Running on all addresses (0.0.0.0)\n",
      " * Running on http://127.0.0.1:5000\n",
      " * Running on http://192.168.0.108:5000\n",
      "Press CTRL+C to quit\n"
     ]
    }
   ],
   "source": [
    "import pickle\n",
    "import os\n",
    "from flask import Flask, request\n",
    "\n",
    "app = Flask(__name__)\n",
    "\n",
    "@app.route('/process',methods = ['POST'])\n",
    "def process():\n",
    "    x1 = float(request.form['x1'])\n",
    "    x2 = float(request.form['x2'])\n",
    "    x3 = float(request.form['x3'])\n",
    "    x4 = float(request.form['x4'])\n",
    "\n",
    "    x=[[x1,x2,x3,x4]]\n",
    "    with open('model_iris.pkl','rb') as my_model:\n",
    "        model = pickle.load(my_model)\n",
    "    a=model.predict(x)\n",
    "\n",
    "    return (f\"The predicted value is :{a[0]}\")\n",
    "\n",
    "if __name__ == \"__main__\":\n",
    "    port = int(os.environ.get(\"PORT\", 5000))  \n",
    "    print(f\"? Flask server is starting on http://0.0.0.0:{port} ...\")\n",
    "    app.run(host=\"0.0.0.0\", port=port)"
   ]
  },
  {
   "cell_type": "code",
   "execution_count": null,
   "id": "178712b4-7ddd-439f-8401-46238e074f90",
   "metadata": {},
   "outputs": [],
   "source": []
  }
 ],
 "metadata": {
  "kernelspec": {
   "display_name": "Python 3 (ipykernel)",
   "language": "python",
   "name": "python3"
  },
  "language_info": {
   "codemirror_mode": {
    "name": "ipython",
    "version": 3
   },
   "file_extension": ".py",
   "mimetype": "text/x-python",
   "name": "python",
   "nbconvert_exporter": "python",
   "pygments_lexer": "ipython3",
   "version": "3.12.7"
  }
 },
 "nbformat": 4,
 "nbformat_minor": 5
}
